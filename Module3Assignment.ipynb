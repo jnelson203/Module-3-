{
 "cells": [
  {
   "cell_type": "code",
   "execution_count": null,
   "id": "1f4bfa28-9575-4936-a362-cf70053b7fd3",
   "metadata": {},
   "outputs": [],
   "source": [
    "things = [\"mozzarella\", \"cinderella\", \"salmonella\"]"
   ]
  },
  {
   "cell_type": "code",
   "execution_count": null,
   "id": "2366b04a-e5cf-45ff-bc71-9301ff2b6f35",
   "metadata": {},
   "outputs": [],
   "source": [
    "things[1] = things[1].capitalize()\n",
    "print(things)\n",
    "Yes, it changed the element because we reassigned it."
   ]
  },
  {
   "cell_type": "code",
   "execution_count": null,
   "id": "4b5d7912-cdef-4afe-8502-dd2740ecfe42",
   "metadata": {},
   "outputs": [],
   "source": [
    "things[0] = things[0].upper()\n",
    "print(things)"
   ]
  },
  {
   "cell_type": "code",
   "execution_count": null,
   "id": "0454c4db-f907-41c6-a052-59f8e2e1482c",
   "metadata": {},
   "outputs": [],
   "source": [
    "things.remove(\"salmonella\")\n",
    "print(things)"
   ]
  },
  {
   "cell_type": "code",
   "execution_count": null,
   "id": "5fbf29cf-9621-495b-bec0-bb402a54c9cd",
   "metadata": {},
   "outputs": [],
   "source": []
  }
 ],
 "metadata": {
  "kernelspec": {
   "display_name": "Python 3 (ipykernel)",
   "language": "python",
   "name": "python3"
  },
  "language_info": {
   "codemirror_mode": {
    "name": "ipython",
    "version": 3
   },
   "file_extension": ".py",
   "mimetype": "text/x-python",
   "name": "python",
   "nbconvert_exporter": "python",
   "pygments_lexer": "ipython3",
   "version": "3.12.7"
  }
 },
 "nbformat": 4,
 "nbformat_minor": 5
}
